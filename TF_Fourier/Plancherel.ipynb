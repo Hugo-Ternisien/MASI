{
 "cells": [
  {
   "cell_type": "code",
   "execution_count": null,
   "id": "b50cc414",
   "metadata": {},
   "outputs": [],
   "source": [
    "import numpy as np\n",
    "import matplotlib.pyplot as plt\n",
    "import scipy as sp\n",
    "from scipy import signal, fftpack\n",
    "import time"
   ]
  },
  {
   "cell_type": "markdown",
   "id": "06be23f3",
   "metadata": {},
   "source": [
    "## À propos du théorème de Plancherel et de la complexité de calcul"
   ]
  },
  {
   "cell_type": "markdown",
   "id": "ea46b2f2",
   "metadata": {},
   "source": [
    "Dans cet exercice, on se propose de vérifier expérimentalement l'un des atouts du Théorème de Plancherel. Ce dernier, grâce à la relation $\\mathcal{F}(x\\ast y) = \\mathcal{F}(x)\\times \\mathcal{F}(y)$, où, autrement dit $(x\\ast y) = \\mathcal{F}^{-1}\\big(\\mathcal{F}(x)\\times \\mathcal{F}(y)\\big)$, permet de réduire la complexité effective du calcul de $(x\\ast y)$ de $\\mathcal{O}(N^2)$ par la formule directe à $\\mathcal{O}(N \\log(N))$ pour des signaux de longueur $N$.\n",
    "\n",
    "Ce tour de force réside dans le fait que la transformée de Fourier d'un signal de longueur $N$ peut se calculer en $\\mathcal{O}(N \\log(N))$ grâce à l'algorithme de **transformée de Fourier rapide** (*FFT = Fast Fourier Transform*). Plus de détails [ici](https://en.wikipedia.org/wiki/Fast_Fourier_transform)."
   ]
  },
  {
   "cell_type": "markdown",
   "id": "166955b4",
   "metadata": {},
   "source": [
    "### **Vérifiez en pratique que la FFT est bien de complexité $\\mathcal{O}(N \\log(N))$**"
   ]
  },
  {
   "cell_type": "markdown",
   "id": "3b5c2484",
   "metadata": {},
   "source": [
    "Avant toute, chose, il est bon de savoir que la FFT est d'autant plus efficace que la longueur $N$ du signal est factorisable par des puissances de 2 (cas le plus efficace : $N = 2^p$). On va se restreindre à ce cas là."
   ]
  },
  {
   "cell_type": "code",
   "execution_count": null,
   "id": "4c5e4da1",
   "metadata": {},
   "outputs": [],
   "source": [
    "N = np.array([2**n for n in range(6,21)]) # on prend toutes les puissances de 2 entre 2^6 et 2^20"
   ]
  },
  {
   "cell_type": "markdown",
   "id": "3bd3902e",
   "metadata": {},
   "source": [
    "<font color=\"blue\"> **Question** Générez des signaux pour les longueurs $n \\in N$, et calculer le temps de calcul de `scipy.fftpack.fft` pour chacun de ces signaux. Vérifiez que le temps de calcul est bien asymptotiquement de l'ordre de $N \\log(N)$. </font>\n",
    "\n",
    "Vous pouvez tester soit un signal totalement aléatoire (avec `numpy.random.randn`), soit piocher dans les formes de signaux disponibles dans `scipy.signal` (`chirp`, `gausspulse`, `sawtooth` et `square` pour ne citer qu'eux)"
   ]
  },
  {
   "cell_type": "code",
   "execution_count": null,
   "id": "9a3c9098",
   "metadata": {},
   "outputs": [],
   "source": [
    "# Pour timer le temps de calcul d'une ou plusieurs lignes de code :\n",
    "# t_begin = time.time()\n",
    "# ... (le code à chronométrer)\n",
    "# t_end = time.time()\n",
    "# t_elapsed = t_end - t_begin"
   ]
  },
  {
   "cell_type": "code",
   "execution_count": null,
   "id": "23228c26",
   "metadata": {},
   "outputs": [],
   "source": []
  },
  {
   "cell_type": "markdown",
   "id": "93c10589",
   "metadata": {},
   "source": [
    "### **Vérifiez que le théorème de Plancherel permet bien un gain de $\\mathcal{O}(N^2)$ à $\\mathcal{O}(N \\log(N))$ pour calculer un produit de convolution ou une corrélation via la transformée de Fourier**"
   ]
  },
  {
   "cell_type": "markdown",
   "id": "9667e837",
   "metadata": {},
   "source": [
    "En particulier, vous pouvez déjà vérifier que `scipy.signal.correlate` et `scipy.signal.convolve` offre le choix du calcul par la méthode directe et via la transformée de Fourier, ce qui va grandement faciliter le travail...\n",
    "\n",
    "<font color=\"blue\"> **Question** À vous de procéder de la même manière que pour la question précédente :</font>\n",
    "* <font color=\"blue\">définissez un range de valeurs pour $N$. Il n'est plus besoin de définir forcément des puissances de 2. Par contre, **attention à la longueur maximale** que vous définissez pour le signal : il va falloir comparer du $N^2$ à du $N \\log(N)$, au delà d'un ordre de grandeur $N \\sim 10^5$, ça risque de mouliner longtemps...</font>\n",
    "* <font color=\"blue\">timer le calcul de la convolution ou corrélation par la méthode directe et par la FFT puis tracez le graphe de l'évolution de ce temps de calcul en fonction de la longueur du signal</font>\n",
    "* <font color=\"blue\">Que pouvez vous en conclure ?</font>"
   ]
  },
  {
   "cell_type": "code",
   "execution_count": null,
   "id": "d810fecd",
   "metadata": {},
   "outputs": [],
   "source": [
    "# N = np.round(np.linspace(...,...,...)).astype(int)"
   ]
  }
 ],
 "metadata": {
  "kernelspec": {
   "display_name": "Python 3 (ipykernel)",
   "language": "python",
   "name": "python3"
  },
  "language_info": {
   "codemirror_mode": {
    "name": "ipython",
    "version": 3
   },
   "file_extension": ".py",
   "mimetype": "text/x-python",
   "name": "python",
   "nbconvert_exporter": "python",
   "pygments_lexer": "ipython3",
   "version": "3.9.2"
  }
 },
 "nbformat": 4,
 "nbformat_minor": 5
}
