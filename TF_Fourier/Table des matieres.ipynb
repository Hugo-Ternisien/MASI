{
 "cells": [
  {
   "cell_type": "markdown",
   "id": "c66fa5d9",
   "metadata": {},
   "source": [
    "## Table des matières\n",
    "\n",
    "Pour ces deux séances de TP sur la transformée de Fourier, 5 exercices vous sont proposés. Le **premier** exercice à faire est le suivant :\n",
    "* [Introduction à la transformée de Fourier discrète](./Intro_TFD.ipynb)\n",
    "\n",
    "Pour la suite, vous pouvez faire les exercices suivants dans **l'ordre que vous souhaitez** :\n",
    "* [Manipulation et analyse d'un électrocardiogramme (ECG)](./Traitement_ECG.ipynb)\n",
    "* [Théorème de Plancherel](./Plancherel.ipynb)\n",
    "* [Débruitage d'une note de musique](./Debruitage.ipynb) (Nécessite des écouteurs)\n",
    "* [Transformée de Fourier à court terme](./TF_court_terme.ipynb)"
   ]
  }
 ],
 "metadata": {
  "kernelspec": {
   "display_name": "Python 3 (ipykernel)",
   "language": "python",
   "name": "python3"
  },
  "language_info": {
   "codemirror_mode": {
    "name": "ipython",
    "version": 3
   },
   "file_extension": ".py",
   "mimetype": "text/x-python",
   "name": "python",
   "nbconvert_exporter": "python",
   "pygments_lexer": "ipython3",
   "version": "3.9.2"
  }
 },
 "nbformat": 4,
 "nbformat_minor": 5
}
