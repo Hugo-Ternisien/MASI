{
 "cells": [
  {
   "cell_type": "markdown",
   "metadata": {},
   "source": [
    "# Traitement d'un électrocardiogramme\n",
    "\n",
    "Le but de ce TP est de manipuler un peu les notions théoriques liées à la transformée de Fourier, et de voir un peu à quoi ça sert ! \n",
    "\n"
   ]
  },
  {
   "cell_type": "code",
   "execution_count": null,
   "metadata": {},
   "outputs": [],
   "source": [
    "### Les imports ###\n",
    "\n",
    "import numpy as np\n",
    "import scipy as sp\n",
    "from scipy import signal\n",
    "import skimage as sk\n",
    "import skimage.io\n",
    "import matplotlib.pyplot as plt\n",
    "import scipy.fftpack\n",
    "# Matplotlib in inline mode\n",
    "%matplotlib inline"
   ]
  },
  {
   "cell_type": "code",
   "execution_count": null,
   "metadata": {},
   "outputs": [],
   "source": [
    "### NE PAS TOUCHER ###\n",
    "# defining time vector\n",
    "tmax = 10 # max time (in sec)\n",
    "tmin = 0 # min time (does not mean anything but has to be defined)\n",
    "fe = 1000 # sampling frequency (in Hz)\n",
    "Te = 1/fe # sampling period (fe points per second)\n",
    "t = np.arange(tmin,tmax,Te)"
   ]
  },
  {
   "cell_type": "markdown",
   "metadata": {},
   "source": [
    "# L'électrocardiogramme\n",
    "\n",
    "On va regarder la transformée de Fourier d'un electrocardiogramme (ECG) synthétique. La fonction ECG_simul prend en entrée le nombre de battements par minute que vous voulez simuler et le nombre de points.\n"
   ]
  },
  {
   "cell_type": "code",
   "execution_count": null,
   "metadata": {},
   "outputs": [],
   "source": [
    "def ECG_simul(nb_bat):\n",
    "    total_len = t.size # on a 10 secondes au maximum\n",
    "    nb_sec = tmax\n",
    "    Bat = np.ones(int((nb_bat*nb_sec/60)))\n",
    "    fs = np.float64(total_len)/np.float64((nb_bat*nb_sec/60))# sampling rate\n",
    "    pqrst = signal.wavelets.daub(10) # just to simulate a signal, whatever\n",
    "    ecg = np.concatenate([signal.resample(pqrst, int(r*fs)) for r in Bat])\n",
    "    return ecg"
   ]
  },
  {
   "cell_type": "code",
   "execution_count": null,
   "metadata": {},
   "outputs": [],
   "source": [
    "Nbeats=60\n",
    "ecg_clean = ECG_simul(Nbeats) \n",
    "plt.plot(t[:len(ecg_clean)],ecg_clean)"
   ]
  },
  {
   "cell_type": "markdown",
   "metadata": {},
   "source": [
    "#### Visualisation et compréhension d'une transformée de Fourier d'un signal sans fréquence d'échantillonnage \n",
    "Avant de commencer l'exercice, nous allons voir dans cette petite partie ce que fait une transformée de Fourier sans se soucier des histoires de fréquences ou autres. On va utiliser la fonction ECG_simul et voir ce qu'il se passe quand on calcule directement une transformée de fourier sur un signal. \n",
    "\n",
    "\n",
    "\n",
    "<font color=\"blue\"> Faites varier Nbeats et affichez la transformée de Fourier (les 75 permiers points). Quel lien voyez vous entre les deux ? </font>\n",
    "\n",
    "Testez des valeurs comme 60, 120, 12... Attention, ici on ne vous demande pas d'utiliser fftshift ou fftfreq !"
   ]
  },
  {
   "cell_type": "code",
   "execution_count": null,
   "metadata": {},
   "outputs": [],
   "source": [
    "Nbeats=48\n",
    "ecg_clean = ECG_simul(Nbeats) \n",
    "T1 = None # TODO"
   ]
  },
  {
   "cell_type": "markdown",
   "metadata": {},
   "source": [
    "<font color=\"blue\"> \n",
    "    Quel est le lien entre votre observation ci dessus, et l'exercice 1 où vous avez manipulé des fréquences ? </font>"
   ]
  },
  {
   "cell_type": "code",
   "execution_count": null,
   "metadata": {},
   "outputs": [],
   "source": [
    "# TODO"
   ]
  },
  {
   "cell_type": "markdown",
   "metadata": {},
   "source": [
    "#### Exploitons maintenant les ECGs... \n",
    "<font color=\"blue\">Faites une fonction qui prend en entrée un ECG et donne en sortie la fréquence cardiaque en battements par minute. Indice: essayez de récupérer le nombre de battement dans le signal à partir de la TFD, puis calculez la fréquence cardiaque à partir de cette information.</font>\n",
    "\n",
    "Pour vérifier votre code, faites varier Nbeats. Attention, la fonction ECG_simul ne simule pas une seconde de temps !"
   ]
  },
  {
   "cell_type": "code",
   "execution_count": null,
   "metadata": {},
   "outputs": [],
   "source": [
    "def nb_battements(ecg):\n",
    "    # TO DO\n",
    "    pass\n",
    "\n",
    "\n",
    "Nbeats=60\n",
    "ecg_clean = ECG_simul(Nbeats)     \n",
    "nb_battements(ecg_clean)"
   ]
  }
 ],
 "metadata": {
  "celltoolbar": "Aucun(e)",
  "kernelspec": {
   "display_name": "Python 3 (ipykernel)",
   "language": "python",
   "name": "python3"
  },
  "language_info": {
   "codemirror_mode": {
    "name": "ipython",
    "version": 3
   },
   "file_extension": ".py",
   "mimetype": "text/x-python",
   "name": "python",
   "nbconvert_exporter": "python",
   "pygments_lexer": "ipython3",
   "version": "3.9.2"
  }
 },
 "nbformat": 4,
 "nbformat_minor": 4
}
